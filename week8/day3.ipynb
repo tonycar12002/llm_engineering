{
 "cells": [
  {
   "cell_type": "markdown",
   "id": "0df0d850-49eb-4a0b-a27a-146969db710d",
   "metadata": {},
   "source": [
    "# The Price is Right\n",
    "\n",
    "Today we'll build another piece of the puzzle: a ScanningAgent that looks for promising deals by subscribing to RSS feeds."
   ]
  },
  {
   "cell_type": "code",
   "execution_count": 1,
   "id": "d3763a79-8a5a-4300-8de4-93e85475af10",
   "metadata": {},
   "outputs": [],
   "source": [
    "# imports\n",
    "\n",
    "import os\n",
    "import json\n",
    "from dotenv import load_dotenv\n",
    "from openai import OpenAI\n",
    "from agents.deals import ScrapedDeal, DealSelection"
   ]
  },
  {
   "cell_type": "code",
   "execution_count": 2,
   "id": "c6469e32-16c3-4443-9475-ade710ef6933",
   "metadata": {},
   "outputs": [],
   "source": [
    "# Initialize and constants\n",
    "\n",
    "load_dotenv(override=True)\n",
    "os.environ['OPENAI_API_KEY'] = os.getenv('OPENAI_API_KEY', 'your-key-if-not-using-env')\n",
    "MODEL = 'gpt-4o-mini'\n",
    "openai = OpenAI()"
   ]
  },
  {
   "cell_type": "code",
   "execution_count": 3,
   "id": "afece9db-8cd4-46be-ac57-0b472e84da7d",
   "metadata": {},
   "outputs": [
    {
     "name": "stderr",
     "output_type": "stream",
     "text": [
      "100%|████████████████████████████████████████████████████████████████████████████████████| 5/5 [02:44<00:00, 32.92s/it]\n"
     ]
    }
   ],
   "source": [
    "deals = ScrapedDeal.fetch(show_progress=True)"
   ]
  },
  {
   "cell_type": "code",
   "execution_count": 4,
   "id": "8cd15c4d-eb44-4601-bf0c-f945c1d8e3ec",
   "metadata": {},
   "outputs": [
    {
     "data": {
      "text/plain": [
       "50"
      ]
     },
     "execution_count": 4,
     "metadata": {},
     "output_type": "execute_result"
    }
   ],
   "source": [
    "len(deals)"
   ]
  },
  {
   "cell_type": "code",
   "execution_count": 16,
   "id": "4259f30a-6455-49ed-8863-2f9ddd4776cb",
   "metadata": {},
   "outputs": [
    {
     "data": {
      "text/plain": [
       "\"Title: Shokz OpenRun Pro 2 Bone Conduction Sport Headphones for $120 + free shipping\\nDetails: It's the lowest price we could find by $60 and the best deal we've seen for this model. Buy Now at eBay\\nFeatures: \\nURL: https://www.dealnews.com/products/Shokz/Shokz-Open-Run-Pro-2-Bone-Conduction-Sport-Headphones/487107.html?iref=rss-c142\""
      ]
     },
     "execution_count": 16,
     "metadata": {},
     "output_type": "execute_result"
    }
   ],
   "source": [
    "deals[0].describe()"
   ]
  },
  {
   "cell_type": "code",
   "execution_count": 17,
   "id": "8100e5ac-38f5-40c1-a712-08ae12c85038",
   "metadata": {},
   "outputs": [],
   "source": [
    "system_prompt = \"\"\"You identify and summarize the 5 most detailed deals from a list, by selecting deals that have the most detailed, high quality description and the most clear price.\n",
    "Respond strictly in JSON with no explanation, using this format. You should provide the price as a number derived from the description. If the price of a deal isn't clear, do not include that deal in your response.\n",
    "Most important is that you respond with the 5 deals that have the most detailed product description with price. It's not important to mention the terms of the deal; most important is a thorough description of the product.\n",
    "Be careful with products that are described as \"$XXX off\" or \"reduced by $XXX\" - this isn't the actual price of the product. Only respond with products when you are highly confident about the price. \n",
    "\n",
    "{\"deals\": [\n",
    "    {\n",
    "        \"product_description\": \"Your clearly expressed summary of the product in 4-5 sentences. Details of the item are much more important than why it's a good deal. Avoid mentioning discounts and coupons; focus on the item itself. There should be a paragpraph of text for each item you choose.\",\n",
    "        \"price\": 99.99,\n",
    "        \"url\": \"the url as provided\"\n",
    "    },\n",
    "    ...\n",
    "]}\"\"\""
   ]
  },
  {
   "cell_type": "code",
   "execution_count": 18,
   "id": "f4bca170-af71-40c9-9597-1d72980c74d8",
   "metadata": {},
   "outputs": [],
   "source": [
    "user_prompt = \"\"\"Respond with the most promising 5 deals from this list, selecting those which have the most detailed, high quality product description and a clear price.\n",
    "Respond strictly in JSON, and only JSON. You should rephrase the description to be a summary of the product itself, not the terms of the deal.\n",
    "Remember to respond with a paragraph of text in the product_description field for each of the 5 items that you select.\n",
    "Be careful with products that are described as \"$XXX off\" or \"reduced by $XXX\" - this isn't the actual price of the product. Only respond with products when you are highly confident about the price. \n",
    "\n",
    "Deals:\n",
    "\n",
    "\"\"\"\n",
    "user_prompt += '\\n\\n'.join([deal.describe() for deal in deals])"
   ]
  },
  {
   "cell_type": "code",
   "execution_count": 19,
   "id": "020947a6-561b-417b-98a0-a085e31d2ce3",
   "metadata": {},
   "outputs": [
    {
     "name": "stdout",
     "output_type": "stream",
     "text": [
      "Respond with the most promising 5 deals from this list, selecting those which have the most detailed, high quality product description and a clear price.\n",
      "Respond strictly in JSON, and only JSON. You should rephrase the description to be a summary of the product itself, not the terms of the deal.\n",
      "Remember to respond with a paragraph of text in the product_description field for each of the 5 items that you select.\n",
      "Be careful with products that are described as \"$XXX off\" or \"reduced by $XXX\" - this isn't the actual price of the product. Only respond with products when you are highly confident about the price. \n",
      "\n",
      "Deals:\n",
      "\n",
      "Title: Shokz OpenRun Pro 2 Bone Conduction Sport Headphones for $120 + free shipping\n",
      "Details: It's the lowest price we could find by $60 and the best deal we've seen for this model. Buy Now at eBay\n",
      "Features: \n",
      "URL: https://www.dealnews.com/products/Shokz/Shokz-Open-Run-Pro-2-Bone-Conduction-Sport-Headphones/487107.html?iref=rss-c142\n",
      "\n",
      "Title: Open-Box Clearance Deals at Newegg: Up to 74% off + free shipping\n",
      "Details: Shop open-box discounts on laptops, motherboards, monitors, phones, and more, from brands like Asus, Samsung, Gigabyte, and MSI. We've pictured this Open-Box Asus Pro WiFi II AMD WRX80 Ryzen Threadripper PRO EATX Workstation Motherboard for $584.99 (it's $1,000 or more in factory sealed condition elsewhere.) Shipping varies by item (although many do qualify for free shipping) and no warranty information is included. (There is a 30-day return window.)  Shop Now at Newegg\n",
      "Features: \n",
      "URL: https://www.dealnews.com/Open-Box-Clearance-Deals-at-Newegg-Up-to-74-off-free-shipping/21736844.html?iref=rss-c142\n",
      "\n",
      "Title: Panasonic Lumix S PRO 16-35mm f/4 Lens for L Mount Bundle for $998 + free shipping\n",
      "Details: That's $500 off and the best price we could find. Buy Now at Adorama\n",
      "Features: ProOptic 77mm Filter Kit Flex Lens Shade Lens Cleaner Lens Wrap Cap Tether Cleaning Kit Software Bundle\n",
      "URL: https://www.dealnews.com/Panasonic-Lumix-S-PRO-16-35-mm-f-4-Lens\n"
     ]
    }
   ],
   "source": [
    "print(user_prompt[:2000])"
   ]
  },
  {
   "cell_type": "code",
   "execution_count": 9,
   "id": "7de46f74-868c-4127-8a68-cf2da7d600bb",
   "metadata": {},
   "outputs": [],
   "source": [
    "def get_recommendations():\n",
    "    completion = openai.beta.chat.completions.parse(\n",
    "        model=\"gpt-4o-mini\",\n",
    "        messages=[\n",
    "            {\"role\": \"system\", \"content\": system_prompt},\n",
    "            {\"role\": \"user\", \"content\": user_prompt}\n",
    "      ],\n",
    "        response_format=DealSelection\n",
    "    )\n",
    "    result = completion.choices[0].message.parsed\n",
    "    return result"
   ]
  },
  {
   "cell_type": "code",
   "execution_count": 10,
   "id": "4c06270d-8c17-4d5a-9cfe-b6cefe788d5e",
   "metadata": {},
   "outputs": [],
   "source": [
    "result = get_recommendations()"
   ]
  },
  {
   "cell_type": "code",
   "execution_count": 11,
   "id": "84e62845-3338-441a-8161-c70097af4773",
   "metadata": {},
   "outputs": [
    {
     "data": {
      "text/plain": [
       "5"
      ]
     },
     "execution_count": 11,
     "metadata": {},
     "output_type": "execute_result"
    }
   ],
   "source": [
    "len(result.deals)"
   ]
  },
  {
   "cell_type": "code",
   "execution_count": 12,
   "id": "e5554a0a-ae40-4684-ad3e-faa3d22e030c",
   "metadata": {},
   "outputs": [
    {
     "data": {
      "text/plain": [
       "Deal(product_description='The Panasonic Lumix S PRO 16-35mm f/4 lens is a versatile and high-performance lens designed for L Mount cameras. This lens features a constant f/4 aperture, allowing photographers to achieve stunning clarity and detail in various lighting conditions. It comes bundled with essential accessories like a ProOptic 77mm filter kit, a lens cleaner, a lens wrap cap, and software, providing a comprehensive photography package. Its weather-sealed construction ensures durability during outdoor shoots, making it an ideal choice for both professional and amateur photographers seeking high quality imagery.', price=998.0, url='https://www.dealnews.com/Panasonic-Lumix-S-PRO-16-35-mm-f-4-Lens-for-L-Mount-Bundle-for-998-free-shipping/21738418.html?iref=rss-c142')"
      ]
     },
     "execution_count": 12,
     "metadata": {},
     "output_type": "execute_result"
    }
   ],
   "source": [
    "result.deals[1]"
   ]
  },
  {
   "cell_type": "code",
   "execution_count": 13,
   "id": "8bdc57fb-7497-47af-a643-6ba5a21cc17e",
   "metadata": {},
   "outputs": [],
   "source": [
    "from agents.scanner_agent import ScannerAgent"
   ]
  },
  {
   "cell_type": "code",
   "execution_count": 14,
   "id": "132278bc-217a-43a6-b6c4-724140c6a225",
   "metadata": {},
   "outputs": [],
   "source": [
    "agent = ScannerAgent()\n",
    "result = agent.scan()"
   ]
  },
  {
   "cell_type": "code",
   "execution_count": 15,
   "id": "2e1d013a-c930-4dad-901b-41433379e14b",
   "metadata": {},
   "outputs": [
    {
     "data": {
      "text/plain": [
       "DealSelection(deals=[Deal(product_description=\"The Shokz OpenRun Pro 2 Bone Conduction Sport Headphones provide a unique listening experience that allows you to hear your surroundings while enjoying music or calls. These headphones utilize bone conduction technology, delivering sound through your cheekbones instead of in your ears, ensuring comfort and safety during outdoor activities. Lightweight and sweatproof, they're ideal for workouts or casual use, with a battery life that keeps up with your active lifestyle.\", price=120.0, url='https://www.dealnews.com/products/Shokz/Shokz-Open-Run-Pro-2-Bone-Conduction-Sport-Headphones/487107.html?iref=rss-c142'), Deal(product_description='The Panasonic Lumix S PRO 16-35mm f/4 Lens is designed for L Mount cameras, featuring a versatile focal length ideal for a range of photography styles from landscapes to architecture. With professional optical performance, this lens includes advanced elements to minimize distortion and enhance image quality. The bundle comes with essential accessories like a filter kit and lens cleaner, making it a complete package for serious photographers.', price=998.0, url='https://www.dealnews.com/Panasonic-Lumix-S-PRO-16-35-mm-f-4-Lens-for-L-Mount-Bundle-for-998-free-shipping/21738418.html?iref=rss-c142'), Deal(product_description='The Certified Refurb Bose QuietComfort Ultra Noise-Cancelling Earbuds offer an exceptional audio experience, featuring customizable noise cancellation and spatial audio technology for immersive sound. These earbuds come equipped with various eartips for a perfect fit, intuitive touch controls, and up to 6 hours of battery life on a single charge. With seamless Bluetooth connectivity, they are perfect for on-the-go listening.', price=139.0, url='https://www.dealnews.com/products/Bose/Bose-Quiet-Comfort-Ultra-Noise-Cancelling-Earbuds/484297.html?iref=rss-c142'), Deal(product_description='The Dell Ultra 7 265 Tower Plus Desktop is powered by a robust Intel Core Ultra 7 CPU and features 32GB of RAM alongside a 2TB SSD, making it ideal for resource-intensive applications and multitasking. This powerful desktop ensures swift performance for gaming or professional use, and it comes with Windows 11 Home, providing a modern interface and robust security features.', price=900.0, url='https://www.dealnews.com/products/Dell/Dell-Ultra-7-265-20-Core-Tower-Plus-Desktop-w-32-GB-RAM/489815.html?iref=rss-c39'), Deal(product_description='The Onn 100012587 65\" 4K HDR UHD Smart TV provides an outstanding viewing experience with its vibrant 4K resolution and HDR capabilities. It features a Roku operating system that allows easy access to a wide range of streaming services and a user-friendly interface. With multiple HDMI ports, it can easily connect to various external devices, making it a great centerpiece for any entertainment setup.', price=298.0, url='https://www.dealnews.com/products/Onn/Onn-100012587-65-4-K-HDR-UHD-Smart-TV/486830.html?iref=rss-f1912')])"
      ]
     },
     "execution_count": 15,
     "metadata": {},
     "output_type": "execute_result"
    }
   ],
   "source": [
    "result"
   ]
  },
  {
   "cell_type": "code",
   "execution_count": null,
   "id": "5ee2e837-1f1d-42d4-8bc4-51cccc343006",
   "metadata": {},
   "outputs": [],
   "source": []
  }
 ],
 "metadata": {
  "kernelspec": {
   "display_name": "Python 3 (ipykernel)",
   "language": "python",
   "name": "python3"
  },
  "language_info": {
   "codemirror_mode": {
    "name": "ipython",
    "version": 3
   },
   "file_extension": ".py",
   "mimetype": "text/x-python",
   "name": "python",
   "nbconvert_exporter": "python",
   "pygments_lexer": "ipython3",
   "version": "3.11.12"
  }
 },
 "nbformat": 4,
 "nbformat_minor": 5
}
