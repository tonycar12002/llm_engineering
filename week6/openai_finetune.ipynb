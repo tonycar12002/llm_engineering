{
 "cells": [
  {
   "cell_type": "code",
   "execution_count": 1,
   "id": "1ff85113-5bcc-4575-b6ef-a680895c05bd",
   "metadata": {},
   "outputs": [
    {
     "name": "stderr",
     "output_type": "stream",
     "text": [
      "Note: Environment variable`HF_TOKEN` is set and is the current active token independently from the token you've just configured.\n"
     ]
    }
   ],
   "source": [
    "import os\n",
    "import math\n",
    "import json\n",
    "import random\n",
    "from dotenv import load_dotenv\n",
    "from huggingface_hub import login\n",
    "import matplotlib.pyplot as plt\n",
    "import numpy as np\n",
    "import pickle\n",
    "import openai\n",
    "from collections import Counter\n",
    "load_dotenv(override=True)\n",
    "os.environ['OPENAI_API_KEY'] = os.getenv('OPENAI_API_KEY', 'your-key-if-not-using-env')\n",
    "os.environ['HF_TOKEN'] = os.getenv('HF_TOKEN', 'your-key-if-not-using-env')\n",
    "hf_token = os.environ['HF_TOKEN']\n",
    "login(hf_token, add_to_git_credential=True)"
   ]
  },
  {
   "cell_type": "code",
   "execution_count": 7,
   "id": "bb19e230-7e18-4b65-b0cf-6329e4b969ac",
   "metadata": {},
   "outputs": [
    {
     "name": "stdout",
     "output_type": "stream",
     "text": [
      "對不起，您不能將肉類帶到台灣。\n"
     ]
    }
   ],
   "source": [
    "message = \"HI, Do u know whether I can bring meat to Taiwan\"\n",
    "response = openai.chat.completions.create(\n",
    "    model=\"gpt-3.5-turbo\",\n",
    "    messages=[\n",
    "        {\"role\":\"user\", \"content\": message},\n",
    "        {\"role\": \"system\", \"content\": \"You are a helpful assistant and reply message in Chinese in one sentence.\"},\n",
    "        ]\n",
    ")\n",
    "print(response.choices[0].message.content)"
   ]
  },
  {
   "cell_type": "code",
   "execution_count": 12,
   "id": "fe1efd52-b6f9-496b-92e0-ef3b461f6740",
   "metadata": {},
   "outputs": [
    {
     "name": "stdout",
     "output_type": "stream",
     "text": [
      "檔案上傳成功，檔案 ID: file-BgfXbHiiA36ku5P631nZTb\n"
     ]
    }
   ],
   "source": [
    "try:\n",
    "    file_upload = openai.files.create(\n",
    "        file=open(\"training_data.jsonl\", \"rb\"),\n",
    "        purpose=\"fine-tune\"\n",
    "    )\n",
    "    training_file_id = file_upload.id\n",
    "    print(f\"檔案上傳成功，檔案 ID: {training_file_id}\")\n",
    "\n",
    "except Exception as e:\n",
    "    print(f\"檔案上傳失敗: {e}\")\n",
    "    training_file_id = None # 如果上傳失敗，後續步驟將無法執行"
   ]
  },
  {
   "cell_type": "code",
   "execution_count": 13,
   "id": "81a726f3-e280-4140-a69c-a6d80b85719d",
   "metadata": {},
   "outputs": [
    {
     "name": "stdout",
     "output_type": "stream",
     "text": [
      "微調任務建立成功，任務 ID: ftjob-E6ie3L5KfcK8FuSs90PoRxNb\n",
      "任務狀態: validating_files\n",
      "您可以透過任務 ID 監控進度。\n"
     ]
    }
   ],
   "source": [
    "if training_file_id:\n",
    "    try:\n",
    "        fine_tune_job = openai.fine_tuning.jobs.create(\n",
    "            training_file=training_file_id,\n",
    "            model=\"gpt-3.5-turbo\" # 或其他支援微調的模型，例如 gpt-4o-mini\n",
    "        )\n",
    "        job_id = fine_tune_job.id\n",
    "        print(f\"微調任務建立成功，任務 ID: {job_id}\")\n",
    "        print(f\"任務狀態: {fine_tune_job.status}\")\n",
    "        print(\"您可以透過任務 ID 監控進度。\")\n",
    "\n",
    "    except Exception as e:\n",
    "        print(f\"微調任務建立失敗: {e}\")\n",
    "        job_id = None"
   ]
  },
  {
   "cell_type": "code",
   "execution_count": 20,
   "id": "c97b73bd-2643-4225-91b4-ae57d6cd9cf7",
   "metadata": {},
   "outputs": [
    {
     "name": "stdout",
     "output_type": "stream",
     "text": [
      "當前任務狀態: succeeded\n",
      "當前任務狀態: succeeded\n",
      "監控微調任務失敗: Jobs.list_events() got an unexpected keyword argument 'job_id'\n"
     ]
    }
   ],
   "source": [
    "import time\n",
    "def check_finetune_status(job_id):\n",
    "    job_status = openai.fine_tuning.jobs.retrieve(job_id)\n",
    "    print(f\"當前任務狀態: {job_status.status}\")\n",
    "    return job_status.status\n",
    "if job_id:\n",
    "    while check_finetune_status(job_id) != \"failed\" and check_finetune_status(job_id) != \"succeeded\":\n",
    "        time.sleep(1)\n",
    "    try:\n",
    "        # 獲取任務事件列表，查看進度或錯誤\n",
    "        # 注意：這可能不會立即顯示所有事件，需要等待一段時間\n",
    "        events = openai.fine_tuning.jobs.list_events(job_id=job_id, limit=50)\n",
    "        print(\"最近的任務事件:\")\n",
    "        for event in events.data:\n",
    "            print(f\"- {event.created_at}: {event.message}\")\n",
    "\n",
    "    except Exception as e:\n",
    "        print(f\"監控微調任務失敗: {e}\")\n"
   ]
  },
  {
   "cell_type": "code",
   "execution_count": 23,
   "id": "978c3a74-fbb0-4bac-9fc2-a70caf6b7d1a",
   "metadata": {},
   "outputs": [
    {
     "name": "stdout",
     "output_type": "stream",
     "text": [
      "正在嘗試調用微調模型: ft:gpt-3.5-turbo-0125:testmodel::BYy1McvE\n",
      "你可以帶熟的肉類，不能帶生的肉類\n"
     ]
    }
   ],
   "source": [
    "fine_tuned_model_name = \"ft:gpt-3.5-turbo-0125:testmodel::BYy1McvE\" # 請替換為您的實際模型名稱\n",
    "\n",
    "print(f\"正在嘗試調用微調模型: {fine_tuned_model_name}\")\n",
    "message = \"May I can bring meat to Taiwan\"\n",
    "response = openai.chat.completions.create(\n",
    "    model=fine_tuned_model_name,\n",
    "    messages=[\n",
    "        {\"role\":\"user\", \"content\": message},\n",
    "        {\"role\": \"system\", \"content\": \"reply message in Chinese in one sentence.\"},\n",
    "        ]\n",
    ")\n",
    "print(response.choices[0].message.content)"
   ]
  },
  {
   "cell_type": "code",
   "execution_count": null,
   "id": "636f9fe6-c87b-4166-9460-61b66dff0be6",
   "metadata": {},
   "outputs": [],
   "source": []
  }
 ],
 "metadata": {
  "kernelspec": {
   "display_name": "Python 3 (ipykernel)",
   "language": "python",
   "name": "python3"
  },
  "language_info": {
   "codemirror_mode": {
    "name": "ipython",
    "version": 3
   },
   "file_extension": ".py",
   "mimetype": "text/x-python",
   "name": "python",
   "nbconvert_exporter": "python",
   "pygments_lexer": "ipython3",
   "version": "3.11.12"
  }
 },
 "nbformat": 4,
 "nbformat_minor": 5
}
